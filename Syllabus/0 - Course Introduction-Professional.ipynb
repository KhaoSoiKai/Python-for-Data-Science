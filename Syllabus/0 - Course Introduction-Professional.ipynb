{
 "cells": [
  {
   "cell_type": "markdown",
   "metadata": {},
   "source": [
    "# Programming for Data Science and Artificial Intelligence\n",
    "\n",
    "## 0 Course Introduction"
   ]
  },
  {
   "cell_type": "markdown",
   "metadata": {},
   "source": [
    "* My name is **Chaklam**.  Email - **chaklam@ait.asia**\n",
    "\n",
    "* Materials: **Github - https://github.com/chaklam-silpasuwanchai/Python-for-Data-Science**.\n",
    "\n",
    "* Google classroom code - **73zvhof**\n",
    "\n",
    "### What is Python?  Why programming?\n",
    "\n",
    "\n",
    "### What you will learn?  What you will NOT learn?\n",
    "\n",
    "\n",
    "### Grading\n",
    "\n",
    "\n",
    "### Setting up your Python and Jupyter\n",
    "\n",
    "* Many ways to setup Python and Jupyter\n",
    "  * Anaconda - https://www.anaconda.com \n",
    "  * Google Colab - https://colab.research.google.com \n",
    "  * AIT - https://puffer.cs.ait.ac.th"
   ]
  },
  {
   "cell_type": "markdown",
   "metadata": {},
   "source": [
    "### Resources\n",
    "\n",
    "* Reference books:\n",
    "    - [GERON] Geron, A. **Hands-On Machine Learning with Scikit-Learn and TensorFlow: Concepts, Tools, and Techniques to Build Intelligent Systems**, 2019 (2nd edition) (https://github.com/ageron/handson-ml2)\n",
    "    - [VANDER] VanderPlas, J. **Python Data Science Handbook: Essential Tools for Working with Data**, 2016 (1st edition) (https://jakevdp.github.io/PythonDataScienceHandbook/)\n",
    "    - [HASTIE] Hastie, T., Tibshirani, R., and Friedman, J. **The Elements of Statistical Learning: Data Mining, Inference, and Prediction**, 2016 (2nd edition) (https://web.stanford.edu/~hastie)\n",
    "    - [WEIDMAN] Weidman, S. **Deep Learning from Scratch: Building with Python from First Principles**, 2019 (1st edition) (https://github.com/SethHWeidman/DLFS_code)\n",
    "    - [CHARU] Charu, C. **Neural Networks and Deep Learning: A Textbook**, 2018 (1st edition)\n",
    "    - [Deisenroth] Deisenroth, M.P., Faisal A.A., Ong, C.S., **Mathematics for Machine Learning**, 2020 (1st edition) (https://mml-book.github.io/book/mml-book.pdf)\n",
    "    \n",
    "* Online resources:\n",
    "    - Python tutorials available online: https://docs.python.org/3/tutorial/\n",
    "    - Jupyter notebook tutorials available online: https://ipython.org/documentation.html\n",
    "    - Numpy tutorials available online:https://numpy.org/doc/stable/\n",
    "    - Pandas tutorials available online: https://pandas.pydata.org/docs/\n",
    "    - Nltk tutorials available online: https://www.nltk.org\n",
    "    - Matplotlib tutorials available online: https://matplotlib.org/contents.html\n",
    "    - Scikit-learn tutorials available online: https://scikit-learn.org/stable/user_guide.html\n",
    "    - Pytorch tutorials available online: https://pytorch.org/tutorials/\n",
    "    - Nice visuals on CNN - https://github.com/vdumoulin/conv_arithmetic"
   ]
  }
 ],
 "metadata": {
  "kernelspec": {
   "display_name": "Python 3",
   "language": "python",
   "name": "python3"
  },
  "language_info": {
   "codemirror_mode": {
    "name": "ipython",
    "version": 3
   },
   "file_extension": ".py",
   "mimetype": "text/x-python",
   "name": "python",
   "nbconvert_exporter": "python",
   "pygments_lexer": "ipython3",
   "version": "3.8.6"
  }
 },
 "nbformat": 4,
 "nbformat_minor": 4
}
