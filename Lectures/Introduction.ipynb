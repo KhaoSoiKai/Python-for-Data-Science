{
 "cells": [
  {
   "cell_type": "markdown",
   "metadata": {},
   "source": [
    "## Case Study Introduction \n",
    "\n",
    "### Life Expectancy"
   ]
  },
  {
   "cell_type": "code",
   "execution_count": 2,
   "metadata": {},
   "outputs": [],
   "source": [
    "#Caution: If you don't understand my code, it's fine!  \n",
    "#I just want you to get a feeling what you will achieve at the end"
   ]
  },
  {
   "cell_type": "markdown",
   "metadata": {},
   "source": [
    "### 1. Load the data (ETL)"
   ]
  },
  {
   "cell_type": "markdown",
   "metadata": {},
   "source": [
    "### 2. Exploratory Data Analysis (EDA)"
   ]
  },
  {
   "cell_type": "markdown",
   "metadata": {},
   "source": [
    "### 3. Preprocessing / Cleaning\n",
    "- missing values\n",
    "- create new columns - feature engineering\n",
    "  - E.g., column called stock price, i can feature engineer a new column called MACD\n",
    "- convert string to integers"
   ]
  },
  {
   "cell_type": "markdown",
   "metadata": {},
   "source": [
    "### 4. Feature Extraction\n",
    "\n",
    "- I use weight and height to predict obseity\n",
    "- Weight and height are called *features, X, independent variables, factors*\n",
    "- Obseity is what we want to predict - is/are called *labels / targets / dependent variables / outcomes*\n",
    "\n",
    "What do I mean by feature extraction?\n",
    "\n",
    "- choose columns\n",
    "- How do we know which feature is good?\n",
    "  - Correlation analysis with the label - mostly used for continuous features\n",
    "  - ANOVA or t-test - statistical test to know whether the factor is important - mostly used for discrete features"
   ]
  },
  {
   "cell_type": "markdown",
   "metadata": {},
   "source": [
    "### 5.  Modeling\n",
    "\n",
    "- Compare different machine learning models and/or hyperparameters\n",
    "- what do i mean by hyperparameters - parameters of the machine learning models\n",
    "- Cross-validation\n",
    "- Grid-search"
   ]
  },
  {
   "cell_type": "markdown",
   "metadata": {},
   "source": [
    "### 6. Testing / Inference\n",
    "\n",
    "- test with a separate test set to get \"real\" accuracy"
   ]
  },
  {
   "cell_type": "markdown",
   "metadata": {},
   "source": [
    "### 7. Deploy \n",
    "\n",
    "- 1. you need to make an API - how?  ---> best tool is called FastAPI\n",
    "- 2. you need to host this API somewhere in the internet\n",
    "  - Free option: Heroku\n",
    "  - Not free option: AWS EC2,  Google Cloud, Azure ML, Digital Ocean (cloud server)"
   ]
  },
  {
   "cell_type": "markdown",
   "metadata": {},
   "source": []
  }
 ],
 "metadata": {
  "kernelspec": {
   "display_name": "Python 3.8.6 ('teaching_env')",
   "language": "python",
   "name": "python3"
  },
  "language_info": {
   "codemirror_mode": {
    "name": "ipython",
    "version": 3
   },
   "file_extension": ".py",
   "mimetype": "text/x-python",
   "name": "python",
   "nbconvert_exporter": "python",
   "pygments_lexer": "ipython3",
   "version": "3.8.6"
  },
  "orig_nbformat": 4,
  "vscode": {
   "interpreter": {
    "hash": "becc4c8e5ad229b2591d820334d85e3db0111492344629bf57f272470dce75a5"
   }
  }
 },
 "nbformat": 4,
 "nbformat_minor": 2
}
