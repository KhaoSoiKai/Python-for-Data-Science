{
 "cells": [
  {
   "cell_type": "markdown",
   "metadata": {},
   "source": [
    "# NumPy\n",
    "\n",
    "- is basically list\n",
    "- NumPy is much faster and efficient than list\n",
    "- NumPy also works like vectors, which is suitable of machine learning"
   ]
  },
  {
   "cell_type": "markdown",
   "metadata": {},
   "source": [
    "## Creation"
   ]
  },
  {
   "cell_type": "code",
   "execution_count": 6,
   "metadata": {},
   "outputs": [
    {
     "data": {
      "text/plain": [
       "'1.23.1'"
      ]
     },
     "execution_count": 6,
     "metadata": {},
     "output_type": "execute_result"
    }
   ],
   "source": [
    "import numpy as np\n",
    "np.__version__"
   ]
  },
  {
   "cell_type": "code",
   "execution_count": 7,
   "metadata": {},
   "outputs": [
    {
     "data": {
      "text/plain": [
       "numpy.ndarray"
      ]
     },
     "execution_count": 7,
     "metadata": {},
     "output_type": "execute_result"
    }
   ],
   "source": [
    "#first, create your list\n",
    "a = [1, 2, 3]\n",
    "\n",
    "#second, use np.array(the list) will create the numpy array\n",
    "numpy_a = np.array(a)\n",
    "\n",
    "type(numpy_a)"
   ]
  },
  {
   "cell_type": "markdown",
   "metadata": {},
   "source": [
    "## how does numpy differ from list"
   ]
  },
  {
   "cell_type": "code",
   "execution_count": 8,
   "metadata": {},
   "outputs": [
    {
     "data": {
      "text/plain": [
       "array(['1', '3.0', 'True', 'Chaky'], dtype='<U32')"
      ]
     },
     "execution_count": 8,
     "metadata": {},
     "output_type": "execute_result"
    }
   ],
   "source": [
    "#1.  NumPy only support one data type for one list\n",
    "\n",
    "#example: list - different types\n",
    "a = [1, 3.0, True, \"Chaky\"]\n",
    "\n",
    "#example: numpy array - one type\n",
    "numpy_a = np.array(a)  #convert everything to string....\n",
    "numpy_a"
   ]
  },
  {
   "cell_type": "code",
   "execution_count": 11,
   "metadata": {},
   "outputs": [
    {
     "data": {
      "text/plain": [
       "dtype('float64')"
      ]
     },
     "execution_count": 11,
     "metadata": {},
     "output_type": "execute_result"
    }
   ],
   "source": [
    "#example: list - float + int\n",
    "a = [1, 3.0, 3.2, 9]\n",
    "\n",
    "#convert this to numpy array\n",
    "numpy_a = np.array(a)  #everything becomes float\n",
    "numpy_a.dtype"
   ]
  },
  {
   "cell_type": "code",
   "execution_count": null,
   "metadata": {},
   "outputs": [],
   "source": [
    "#why NumPy only support one data type?!\n",
    "#this is because NumPy wants to be fast and efficient!"
   ]
  },
  {
   "cell_type": "code",
   "execution_count": 13,
   "metadata": {},
   "outputs": [
    {
     "data": {
      "text/plain": [
       "array([3, 6, 9])"
      ]
     },
     "execution_count": 13,
     "metadata": {},
     "output_type": "execute_result"
    }
   ],
   "source": [
    "#2. NumPy behaves like a vector\n",
    "\n",
    "#list behaves like some object, NOT vectors\n",
    "a = [1, 2, 3]\n",
    "a * 3\n",
    "\n",
    "#NumPy behaves like a vector\n",
    "numpy_a = np.array(a) #a vector of 1, 2, 3\n",
    "numpy_a * 3  #this is basically linear algebra"
   ]
  },
  {
   "cell_type": "markdown",
   "metadata": {},
   "source": [
    "## Selecting and accessing elements"
   ]
  },
  {
   "cell_type": "code",
   "execution_count": 14,
   "metadata": {},
   "outputs": [
    {
     "data": {
      "text/plain": [
       "array([0, 1, 2, 3, 4])"
      ]
     },
     "execution_count": 14,
     "metadata": {},
     "output_type": "execute_result"
    }
   ],
   "source": [
    "numpy_a = np.arange(5)  #this is basically like python range\n",
    "numpy_a"
   ]
  },
  {
   "cell_type": "code",
   "execution_count": 17,
   "metadata": {},
   "outputs": [
    {
     "data": {
      "text/plain": [
       "4"
      ]
     },
     "execution_count": 17,
     "metadata": {},
     "output_type": "execute_result"
    }
   ],
   "source": [
    "#same way as list\n",
    "#format: [start:end:step]  #end is exclusive!\n",
    "\n",
    "#1. I want to get 2\n",
    "numpy_a[2]\n",
    "\n",
    "#2. I want 2 to 4\n",
    "numpy_a[2:5]\n",
    "\n",
    "#3. I want 4\n",
    "numpy_a[-1]"
   ]
  },
  {
   "cell_type": "code",
   "execution_count": 18,
   "metadata": {},
   "outputs": [
    {
     "data": {
      "text/plain": [
       "array([[ 0,  1,  2],\n",
       "       [ 3,  4,  5],\n",
       "       [ 6,  7,  8],\n",
       "       [ 9, 10, 11]])"
      ]
     },
     "execution_count": 18,
     "metadata": {},
     "output_type": "execute_result"
    }
   ],
   "source": [
    "#accessing becomes a bit hard, when is multidimensional\n",
    "numpy_a = np.arange(12).reshape(4, 3)\n",
    "numpy_a\n",
    "\n",
    "#here we have a two-dimensional array of shape (4, 3)\n",
    "#4 rows, and 3 cols"
   ]
  },
  {
   "cell_type": "code",
   "execution_count": 21,
   "metadata": {},
   "outputs": [
    {
     "data": {
      "text/plain": [
       "array([[ 0,  1,  2],\n",
       "       [ 3,  4,  5],\n",
       "       [ 6,  7,  8],\n",
       "       [ 9, 10, 11]])"
      ]
     },
     "execution_count": 21,
     "metadata": {},
     "output_type": "execute_result"
    }
   ],
   "source": [
    "numpy_a"
   ]
  },
  {
   "cell_type": "code",
   "execution_count": 24,
   "metadata": {},
   "outputs": [
    {
     "data": {
      "text/plain": [
       "array([0, 1])"
      ]
     },
     "execution_count": 24,
     "metadata": {},
     "output_type": "execute_result"
    }
   ],
   "source": [
    "#format of accessing\n",
    "#format: [row - start:end:step, col - start:end:step]\n",
    "\n",
    "#1. I want the first row\n",
    "numpy_a[0, :]\n",
    "\n",
    "#2. I want the first col\n",
    "numpy_a[:, 0]\n",
    "\n",
    "#what if I want 0, 1\n",
    "#row 0, col 0, 1\n",
    "numpy_a[0, 0:2]\n",
    "\n",
    "#numpy as supports list of index like this (called fancy indexing)\n",
    "numpy_a[0, [0, 1]]\n"
   ]
  },
  {
   "cell_type": "code",
   "execution_count": 26,
   "metadata": {},
   "outputs": [
    {
     "data": {
      "text/plain": [
       "array([[ 0,  1,  2],\n",
       "       [ 3,  4,  5],\n",
       "       [ 6,  7,  8],\n",
       "       [ 9, 10, 11]])"
      ]
     },
     "execution_count": 26,
     "metadata": {},
     "output_type": "execute_result"
    }
   ],
   "source": [
    "numpy_a"
   ]
  },
  {
   "cell_type": "code",
   "execution_count": null,
   "metadata": {},
   "outputs": [],
   "source": [
    "#Ex 1:  give me 3, 4, 5\n",
    "\n",
    "#Ex 2:  give me 10, 11\n",
    "\n",
    "#Ex 3:  give me 2, 4, 6\n",
    "\n",
    "#Ex 4:  give me 11, 10, 9\n",
    "\n",
    "#finish one by one, and put on the chat...."
   ]
  }
 ],
 "metadata": {
  "kernelspec": {
   "display_name": "Python 3.8.6 ('teaching_env')",
   "language": "python",
   "name": "python3"
  },
  "language_info": {
   "codemirror_mode": {
    "name": "ipython",
    "version": 3
   },
   "file_extension": ".py",
   "mimetype": "text/x-python",
   "name": "python",
   "nbconvert_exporter": "python",
   "pygments_lexer": "ipython3",
   "version": "3.8.6"
  },
  "orig_nbformat": 4,
  "vscode": {
   "interpreter": {
    "hash": "becc4c8e5ad229b2591d820334d85e3db0111492344629bf57f272470dce75a5"
   }
  }
 },
 "nbformat": 4,
 "nbformat_minor": 2
}
