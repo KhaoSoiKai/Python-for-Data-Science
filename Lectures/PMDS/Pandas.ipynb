{
 "cells": [
  {
   "cell_type": "markdown",
   "metadata": {},
   "source": [
    "# Pandas\n",
    "\n",
    "- NumPy is the main library for handling data\n",
    "- But NumPy is not so user-friendly (but very fast)\n",
    "- Pandas is BUILT ON TOP of NumPy\n",
    "  - Pandas follows many syntax like NumPy....so it means what you can do in NumPy usually can be done in Pandas.....\n",
    "  - Pandas object is BASICALLY a NumPy array.....\n",
    "- Pandas vs. NumPy\n",
    "  - Well, people just add many useful functions for Pandas....instead of you writing manually...\n",
    "    - Example:  fillna --> masking, filling the values\n",
    "    - Example:  isna().sum() --> isnan()"
   ]
  },
  {
   "cell_type": "code",
   "execution_count": 1,
   "metadata": {},
   "outputs": [
    {
     "data": {
      "text/plain": [
       "'1.4.3'"
      ]
     },
     "execution_count": 1,
     "metadata": {},
     "output_type": "execute_result"
    }
   ],
   "source": [
    "import pandas as pd\n",
    "pd.__version__"
   ]
  },
  {
   "cell_type": "code",
   "execution_count": 3,
   "metadata": {},
   "outputs": [
    {
     "data": {
      "text/html": [
       "<div>\n",
       "<style scoped>\n",
       "    .dataframe tbody tr th:only-of-type {\n",
       "        vertical-align: middle;\n",
       "    }\n",
       "\n",
       "    .dataframe tbody tr th {\n",
       "        vertical-align: top;\n",
       "    }\n",
       "\n",
       "    .dataframe thead th {\n",
       "        text-align: right;\n",
       "    }\n",
       "</style>\n",
       "<table border=\"1\" class=\"dataframe\">\n",
       "  <thead>\n",
       "    <tr style=\"text-align: right;\">\n",
       "      <th></th>\n",
       "      <th>Country</th>\n",
       "      <th>Year</th>\n",
       "      <th>Status</th>\n",
       "      <th>Life expectancy</th>\n",
       "      <th>Adult Mortality</th>\n",
       "      <th>infant deaths</th>\n",
       "      <th>Alcohol</th>\n",
       "      <th>percentage expenditure</th>\n",
       "      <th>Hepatitis B</th>\n",
       "      <th>Measles</th>\n",
       "      <th>...</th>\n",
       "      <th>Polio</th>\n",
       "      <th>Total expenditure</th>\n",
       "      <th>Diphtheria</th>\n",
       "      <th>HIV/AIDS</th>\n",
       "      <th>GDP</th>\n",
       "      <th>Population</th>\n",
       "      <th>thinness  1-19 years</th>\n",
       "      <th>thinness 5-9 years</th>\n",
       "      <th>Income composition of resources</th>\n",
       "      <th>Schooling</th>\n",
       "    </tr>\n",
       "  </thead>\n",
       "  <tbody>\n",
       "    <tr>\n",
       "      <th>0</th>\n",
       "      <td>Afghanistan</td>\n",
       "      <td>2015</td>\n",
       "      <td>Developing</td>\n",
       "      <td>65.0</td>\n",
       "      <td>263.0</td>\n",
       "      <td>62</td>\n",
       "      <td>0.01</td>\n",
       "      <td>71.279624</td>\n",
       "      <td>65.0</td>\n",
       "      <td>1154</td>\n",
       "      <td>...</td>\n",
       "      <td>6.0</td>\n",
       "      <td>8.16</td>\n",
       "      <td>65.0</td>\n",
       "      <td>0.1</td>\n",
       "      <td>584.259210</td>\n",
       "      <td>33736494.0</td>\n",
       "      <td>17.2</td>\n",
       "      <td>17.3</td>\n",
       "      <td>0.479</td>\n",
       "      <td>10.1</td>\n",
       "    </tr>\n",
       "    <tr>\n",
       "      <th>1</th>\n",
       "      <td>Afghanistan</td>\n",
       "      <td>2014</td>\n",
       "      <td>Developing</td>\n",
       "      <td>59.9</td>\n",
       "      <td>271.0</td>\n",
       "      <td>64</td>\n",
       "      <td>0.01</td>\n",
       "      <td>73.523582</td>\n",
       "      <td>62.0</td>\n",
       "      <td>492</td>\n",
       "      <td>...</td>\n",
       "      <td>58.0</td>\n",
       "      <td>8.18</td>\n",
       "      <td>62.0</td>\n",
       "      <td>0.1</td>\n",
       "      <td>612.696514</td>\n",
       "      <td>327582.0</td>\n",
       "      <td>17.5</td>\n",
       "      <td>17.5</td>\n",
       "      <td>0.476</td>\n",
       "      <td>10.0</td>\n",
       "    </tr>\n",
       "    <tr>\n",
       "      <th>2</th>\n",
       "      <td>Afghanistan</td>\n",
       "      <td>2013</td>\n",
       "      <td>Developing</td>\n",
       "      <td>59.9</td>\n",
       "      <td>268.0</td>\n",
       "      <td>66</td>\n",
       "      <td>0.01</td>\n",
       "      <td>73.219243</td>\n",
       "      <td>64.0</td>\n",
       "      <td>430</td>\n",
       "      <td>...</td>\n",
       "      <td>62.0</td>\n",
       "      <td>8.13</td>\n",
       "      <td>64.0</td>\n",
       "      <td>0.1</td>\n",
       "      <td>631.744976</td>\n",
       "      <td>31731688.0</td>\n",
       "      <td>17.7</td>\n",
       "      <td>17.7</td>\n",
       "      <td>0.470</td>\n",
       "      <td>9.9</td>\n",
       "    </tr>\n",
       "    <tr>\n",
       "      <th>3</th>\n",
       "      <td>Afghanistan</td>\n",
       "      <td>2012</td>\n",
       "      <td>Developing</td>\n",
       "      <td>59.5</td>\n",
       "      <td>272.0</td>\n",
       "      <td>69</td>\n",
       "      <td>0.01</td>\n",
       "      <td>78.184215</td>\n",
       "      <td>67.0</td>\n",
       "      <td>2787</td>\n",
       "      <td>...</td>\n",
       "      <td>67.0</td>\n",
       "      <td>8.52</td>\n",
       "      <td>67.0</td>\n",
       "      <td>0.1</td>\n",
       "      <td>669.959000</td>\n",
       "      <td>3696958.0</td>\n",
       "      <td>17.9</td>\n",
       "      <td>18.0</td>\n",
       "      <td>0.463</td>\n",
       "      <td>9.8</td>\n",
       "    </tr>\n",
       "    <tr>\n",
       "      <th>4</th>\n",
       "      <td>Afghanistan</td>\n",
       "      <td>2011</td>\n",
       "      <td>Developing</td>\n",
       "      <td>59.2</td>\n",
       "      <td>275.0</td>\n",
       "      <td>71</td>\n",
       "      <td>0.01</td>\n",
       "      <td>7.097109</td>\n",
       "      <td>68.0</td>\n",
       "      <td>3013</td>\n",
       "      <td>...</td>\n",
       "      <td>68.0</td>\n",
       "      <td>7.87</td>\n",
       "      <td>68.0</td>\n",
       "      <td>0.1</td>\n",
       "      <td>63.537231</td>\n",
       "      <td>2978599.0</td>\n",
       "      <td>18.2</td>\n",
       "      <td>18.2</td>\n",
       "      <td>0.454</td>\n",
       "      <td>9.5</td>\n",
       "    </tr>\n",
       "  </tbody>\n",
       "</table>\n",
       "<p>5 rows × 22 columns</p>\n",
       "</div>"
      ],
      "text/plain": [
       "       Country  Year      Status  Life expectancy   Adult Mortality  \\\n",
       "0  Afghanistan  2015  Developing              65.0            263.0   \n",
       "1  Afghanistan  2014  Developing              59.9            271.0   \n",
       "2  Afghanistan  2013  Developing              59.9            268.0   \n",
       "3  Afghanistan  2012  Developing              59.5            272.0   \n",
       "4  Afghanistan  2011  Developing              59.2            275.0   \n",
       "\n",
       "   infant deaths  Alcohol  percentage expenditure  Hepatitis B  Measles   ...  \\\n",
       "0             62     0.01               71.279624         65.0      1154  ...   \n",
       "1             64     0.01               73.523582         62.0       492  ...   \n",
       "2             66     0.01               73.219243         64.0       430  ...   \n",
       "3             69     0.01               78.184215         67.0      2787  ...   \n",
       "4             71     0.01                7.097109         68.0      3013  ...   \n",
       "\n",
       "   Polio  Total expenditure  Diphtheria    HIV/AIDS         GDP  Population  \\\n",
       "0    6.0               8.16         65.0        0.1  584.259210  33736494.0   \n",
       "1   58.0               8.18         62.0        0.1  612.696514    327582.0   \n",
       "2   62.0               8.13         64.0        0.1  631.744976  31731688.0   \n",
       "3   67.0               8.52         67.0        0.1  669.959000   3696958.0   \n",
       "4   68.0               7.87         68.0        0.1   63.537231   2978599.0   \n",
       "\n",
       "    thinness  1-19 years   thinness 5-9 years  \\\n",
       "0                   17.2                 17.3   \n",
       "1                   17.5                 17.5   \n",
       "2                   17.7                 17.7   \n",
       "3                   17.9                 18.0   \n",
       "4                   18.2                 18.2   \n",
       "\n",
       "   Income composition of resources  Schooling  \n",
       "0                            0.479       10.1  \n",
       "1                            0.476       10.0  \n",
       "2                            0.470        9.9  \n",
       "3                            0.463        9.8  \n",
       "4                            0.454        9.5  \n",
       "\n",
       "[5 rows x 22 columns]"
      ]
     },
     "execution_count": 3,
     "metadata": {},
     "output_type": "execute_result"
    }
   ],
   "source": [
    "df = pd.read_csv('data/lifeexp.csv')\n",
    "df.head()"
   ]
  },
  {
   "cell_type": "markdown",
   "metadata": {},
   "source": [
    "### Accessing the column"
   ]
  },
  {
   "cell_type": "code",
   "execution_count": 8,
   "metadata": {},
   "outputs": [
    {
     "data": {
      "text/plain": [
       "pandas.core.series.Series"
      ]
     },
     "execution_count": 8,
     "metadata": {},
     "output_type": "execute_result"
    }
   ],
   "source": [
    "type(df['Status'])  #df.Status  #series is nothing but a 1D NumPy array"
   ]
  },
  {
   "cell_type": "code",
   "execution_count": 12,
   "metadata": {},
   "outputs": [
    {
     "data": {
      "text/plain": [
       "pandas.core.frame.DataFrame"
      ]
     },
     "execution_count": 12,
     "metadata": {},
     "output_type": "execute_result"
    }
   ],
   "source": [
    "#format:  df[  [list of columns]   ]\n",
    "type(df[  ['Status', 'Alcohol', 'GDP']   ])  #dataframe is nothing but a 2D NumPy array"
   ]
  },
  {
   "cell_type": "markdown",
   "metadata": {},
   "source": [
    "### Masking"
   ]
  },
  {
   "cell_type": "code",
   "execution_count": 14,
   "metadata": {},
   "outputs": [
    {
     "data": {
      "text/plain": [
       "(2426, 22)"
      ]
     },
     "execution_count": 14,
     "metadata": {},
     "output_type": "execute_result"
    }
   ],
   "source": [
    "cond = df.Status == 'Developing'\n",
    "\n",
    "df[cond].shape  #do .shape to know how many rows is developing....."
   ]
  },
  {
   "cell_type": "code",
   "execution_count": 16,
   "metadata": {},
   "outputs": [
    {
     "data": {
      "text/plain": [
       "Index(['Country', 'Year', 'Status', 'Life expectancy', 'Adult Mortality',\n",
       "       'infant deaths', 'Alcohol', 'percentage expenditure', 'Hepatitis B',\n",
       "       'Measles', 'BMI', 'under-five deaths', 'Polio', 'Total expenditure',\n",
       "       'Diphtheria', 'HIV/AIDS', 'GDP', 'Population', 'thinness  1-19 years',\n",
       "       'thinness 5-9 years', 'Income composition of resources', 'Schooling'],\n",
       "      dtype='object')"
      ]
     },
     "execution_count": 16,
     "metadata": {},
     "output_type": "execute_result"
    }
   ],
   "source": [
    "#strip the spaces\n",
    "df.columns = df.columns.str.strip()  #only remove abnormal spaces.....\n",
    "df.columns"
   ]
  },
  {
   "cell_type": "code",
   "execution_count": 17,
   "metadata": {},
   "outputs": [],
   "source": [
    "#rename some columns\n",
    "df = df.rename(\n",
    "    columns = {\n",
    "        'Life expectancy': 'lifeexp',\n",
    "        'Adult Mortality': 'mortality',\n",
    "        'infant deaths'  : 'infantd',\n",
    "        'percentage expenditure' : 'percentage',\n",
    "        'Hepatitis B' : 'hepB',\n",
    "        'under-five deaths' : 'under-five',\n",
    "        'Total expenditure' : 'total',\n",
    "        'thinness  1-19 years': 'thin1-19',\n",
    "        'thinness 5-9 years'  : 'thin5-9',\n",
    "        'Income composition of resources' : 'income'\n",
    "    }\n",
    ")"
   ]
  },
  {
   "cell_type": "code",
   "execution_count": 18,
   "metadata": {},
   "outputs": [
    {
     "data": {
      "text/plain": [
       "Index(['Country', 'Year', 'Status', 'lifeexp', 'mortality', 'infantd',\n",
       "       'Alcohol', 'percentage', 'hepB', 'Measles', 'BMI', 'under-five',\n",
       "       'Polio', 'total', 'Diphtheria', 'HIV/AIDS', 'GDP', 'Population',\n",
       "       'thin1-19', 'thin5-9', 'income', 'Schooling'],\n",
       "      dtype='object')"
      ]
     },
     "execution_count": 18,
     "metadata": {},
     "output_type": "execute_result"
    }
   ],
   "source": [
    "df.columns"
   ]
  },
  {
   "cell_type": "code",
   "execution_count": 22,
   "metadata": {},
   "outputs": [
    {
     "data": {
      "text/plain": [
       "(1586, 22)"
      ]
     },
     "execution_count": 22,
     "metadata": {},
     "output_type": "execute_result"
    }
   ],
   "source": [
    "cond1 = df.Status == 'Developing'\n",
    "cond2 = df.income > 0.5\n",
    "\n",
    "df[cond1 & cond2].shape  #to put or, use |"
   ]
  },
  {
   "cell_type": "code",
   "execution_count": 35,
   "metadata": {},
   "outputs": [
    {
     "name": "stdout",
     "output_type": "stream",
     "text": [
      "2426 Developing\n",
      "512 Developed\n"
     ]
    },
    {
     "data": {
      "text/plain": [
       "Developing    2426\n",
       "Developed      512\n",
       "Name: Status, dtype: int64"
      ]
     },
     "execution_count": 35,
     "metadata": {},
     "output_type": "execute_result"
    }
   ],
   "source": [
    "#Ex1:  Count how many countries in the Developing and Developed countries\n",
    "unique = df.Status.unique()\n",
    "for status in unique:\n",
    "    cond = df.Status == status\n",
    "    print(len(df[cond]), status)\n",
    "    \n",
    "#instead, do this:\n",
    "df.Status.value_counts()  #this is optional..."
   ]
  },
  {
   "cell_type": "code",
   "execution_count": 39,
   "metadata": {},
   "outputs": [
    {
     "data": {
      "text/plain": [
       "array(['Dominican Republic', 'Jamaica'], dtype=object)"
      ]
     },
     "execution_count": 39,
     "metadata": {},
     "output_type": "execute_result"
    }
   ],
   "source": [
    "#Ex2:  See how many countries have HIV/AIDS greater than mean and life expectancy is higher than mean\n",
    "cond1 = df['HIV/AIDS'] > df['HIV/AIDS'].mean()\n",
    "cond2 = df['lifeexp']  > df['lifeexp'].mean()\n",
    "\n",
    "tmp = df[cond1 & cond2]\n",
    "\n",
    "tmp['Country'].unique()"
   ]
  },
  {
   "cell_type": "code",
   "execution_count": 42,
   "metadata": {},
   "outputs": [
    {
     "data": {
      "text/plain": [
       "array(['Afghanistan', 'Angola', 'Antigua and Barbuda',\n",
       "       'Bosnia and Herzegovina', 'Burkina Faso', 'Burundi', 'Chad',\n",
       "       'Djibouti', 'Equatorial Guinea', 'Eritrea', 'Ethiopia', 'Haiti',\n",
       "       'Kiribati', 'Lesotho', 'Liberia', 'Malawi', 'Maldives', 'Mali',\n",
       "       'Marshall Islands', 'Micronesia (Federated States of)',\n",
       "       'Montenegro', 'Mozambique', 'Niger', 'Papua New Guinea',\n",
       "       'Sao Tome and Principe', 'Sierra Leone', 'Sudan', 'Timor-Leste',\n",
       "       'Turkmenistan', 'Tuvalu', 'Uganda'], dtype=object)"
      ]
     },
     "execution_count": 42,
     "metadata": {},
     "output_type": "execute_result"
    }
   ],
   "source": [
    "#Ex3:  See how many countries have 'total' greater than 'schooling'\n",
    "cond = df.total > df.Schooling\n",
    "\n",
    "df[cond]['Country'].unique()\n",
    "\n",
    "# df.loc[cond, 'Country'].unique()\n"
   ]
  },
  {
   "cell_type": "code",
   "execution_count": 29,
   "metadata": {},
   "outputs": [
    {
     "data": {
      "text/plain": [
       "82.55018842069202"
      ]
     },
     "execution_count": 29,
     "metadata": {},
     "output_type": "execute_result"
    }
   ],
   "source": [
    "df.Polio.mean()"
   ]
  },
  {
   "cell_type": "markdown",
   "metadata": {},
   "source": [
    "### iloc and loc\n",
    "\n",
    "- very powerful function\n",
    "- daily used...."
   ]
  },
  {
   "cell_type": "code",
   "execution_count": 54,
   "metadata": {},
   "outputs": [
    {
     "data": {
      "text/html": [
       "<div>\n",
       "<style scoped>\n",
       "    .dataframe tbody tr th:only-of-type {\n",
       "        vertical-align: middle;\n",
       "    }\n",
       "\n",
       "    .dataframe tbody tr th {\n",
       "        vertical-align: top;\n",
       "    }\n",
       "\n",
       "    .dataframe thead th {\n",
       "        text-align: right;\n",
       "    }\n",
       "</style>\n",
       "<table border=\"1\" class=\"dataframe\">\n",
       "  <thead>\n",
       "    <tr style=\"text-align: right;\">\n",
       "      <th></th>\n",
       "      <th>Country</th>\n",
       "      <th>Year</th>\n",
       "    </tr>\n",
       "  </thead>\n",
       "  <tbody>\n",
       "    <tr>\n",
       "      <th>779</th>\n",
       "      <td>Dominican Republic</td>\n",
       "      <td>2006</td>\n",
       "    </tr>\n",
       "    <tr>\n",
       "      <th>780</th>\n",
       "      <td>Dominican Republic</td>\n",
       "      <td>2005</td>\n",
       "    </tr>\n",
       "    <tr>\n",
       "      <th>781</th>\n",
       "      <td>Dominican Republic</td>\n",
       "      <td>2004</td>\n",
       "    </tr>\n",
       "    <tr>\n",
       "      <th>782</th>\n",
       "      <td>Dominican Republic</td>\n",
       "      <td>2003</td>\n",
       "    </tr>\n",
       "    <tr>\n",
       "      <th>783</th>\n",
       "      <td>Dominican Republic</td>\n",
       "      <td>2002</td>\n",
       "    </tr>\n",
       "  </tbody>\n",
       "</table>\n",
       "</div>"
      ],
      "text/plain": [
       "                Country  Year\n",
       "779  Dominican Republic  2006\n",
       "780  Dominican Republic  2005\n",
       "781  Dominican Republic  2004\n",
       "782  Dominican Republic  2003\n",
       "783  Dominican Republic  2002"
      ]
     },
     "execution_count": 54,
     "metadata": {},
     "output_type": "execute_result"
    }
   ],
   "source": [
    "#i here means \"implicit\"\n",
    "#loc means location\n",
    "#format iloc\n",
    "#df.iloc[rowindex, colindex]  #here index can be used as slicing as well; I don't remember you can fancy indexing....\n",
    "tmp.iloc[:5, :2]"
   ]
  },
  {
   "cell_type": "code",
   "execution_count": 55,
   "metadata": {},
   "outputs": [
    {
     "data": {
      "text/html": [
       "<div>\n",
       "<style scoped>\n",
       "    .dataframe tbody tr th:only-of-type {\n",
       "        vertical-align: middle;\n",
       "    }\n",
       "\n",
       "    .dataframe tbody tr th {\n",
       "        vertical-align: top;\n",
       "    }\n",
       "\n",
       "    .dataframe thead th {\n",
       "        text-align: right;\n",
       "    }\n",
       "</style>\n",
       "<table border=\"1\" class=\"dataframe\">\n",
       "  <thead>\n",
       "    <tr style=\"text-align: right;\">\n",
       "      <th></th>\n",
       "      <th>Country</th>\n",
       "      <th>Year</th>\n",
       "      <th>Status</th>\n",
       "      <th>lifeexp</th>\n",
       "      <th>mortality</th>\n",
       "      <th>infantd</th>\n",
       "      <th>Alcohol</th>\n",
       "      <th>percentage</th>\n",
       "      <th>hepB</th>\n",
       "      <th>Measles</th>\n",
       "      <th>...</th>\n",
       "      <th>Polio</th>\n",
       "      <th>total</th>\n",
       "      <th>Diphtheria</th>\n",
       "      <th>HIV/AIDS</th>\n",
       "      <th>GDP</th>\n",
       "      <th>Population</th>\n",
       "      <th>thin1-19</th>\n",
       "      <th>thin5-9</th>\n",
       "      <th>income</th>\n",
       "      <th>Schooling</th>\n",
       "    </tr>\n",
       "  </thead>\n",
       "  <tbody>\n",
       "    <tr>\n",
       "      <th>779</th>\n",
       "      <td>Dominican Republic</td>\n",
       "      <td>2006</td>\n",
       "      <td>Developing</td>\n",
       "      <td>72.3</td>\n",
       "      <td>178.0</td>\n",
       "      <td>7</td>\n",
       "      <td>6.20</td>\n",
       "      <td>352.955127</td>\n",
       "      <td>84.0</td>\n",
       "      <td>0</td>\n",
       "      <td>...</td>\n",
       "      <td>88.0</td>\n",
       "      <td>4.34</td>\n",
       "      <td>89.0</td>\n",
       "      <td>1.8</td>\n",
       "      <td>3836.468771</td>\n",
       "      <td>9371338.0</td>\n",
       "      <td>3.5</td>\n",
       "      <td>3.4</td>\n",
       "      <td>0.677</td>\n",
       "      <td>12.6</td>\n",
       "    </tr>\n",
       "    <tr>\n",
       "      <th>781</th>\n",
       "      <td>Dominican Republic</td>\n",
       "      <td>2004</td>\n",
       "      <td>Developing</td>\n",
       "      <td>69.3</td>\n",
       "      <td>214.0</td>\n",
       "      <td>7</td>\n",
       "      <td>5.16</td>\n",
       "      <td>182.616252</td>\n",
       "      <td>82.0</td>\n",
       "      <td>0</td>\n",
       "      <td>...</td>\n",
       "      <td>66.0</td>\n",
       "      <td>4.28</td>\n",
       "      <td>79.0</td>\n",
       "      <td>2.1</td>\n",
       "      <td>2421.966200</td>\n",
       "      <td>912998.0</td>\n",
       "      <td>3.6</td>\n",
       "      <td>3.5</td>\n",
       "      <td>0.666</td>\n",
       "      <td>12.5</td>\n",
       "    </tr>\n",
       "  </tbody>\n",
       "</table>\n",
       "<p>2 rows × 22 columns</p>\n",
       "</div>"
      ],
      "text/plain": [
       "                Country  Year      Status  lifeexp  mortality  infantd  \\\n",
       "779  Dominican Republic  2006  Developing     72.3      178.0        7   \n",
       "781  Dominican Republic  2004  Developing     69.3      214.0        7   \n",
       "\n",
       "     Alcohol  percentage  hepB  Measles  ...  Polio  total  Diphtheria  \\\n",
       "779     6.20  352.955127  84.0        0  ...   88.0   4.34        89.0   \n",
       "781     5.16  182.616252  82.0        0  ...   66.0   4.28        79.0   \n",
       "\n",
       "     HIV/AIDS          GDP  Population  thin1-19  thin5-9  income  Schooling  \n",
       "779       1.8  3836.468771   9371338.0       3.5      3.4   0.677       12.6  \n",
       "781       2.1  2421.966200    912998.0       3.6      3.5   0.666       12.5  \n",
       "\n",
       "[2 rows x 22 columns]"
      ]
     },
     "execution_count": 55,
     "metadata": {},
     "output_type": "execute_result"
    }
   ],
   "source": [
    "#let me try whether iloc can use fancy indexing....\n",
    "tmp.iloc[  [0, 2]  ]"
   ]
  },
  {
   "cell_type": "code",
   "execution_count": 64,
   "metadata": {},
   "outputs": [
    {
     "data": {
      "text/plain": [
       "Index(['Country', 'Year', 'Status', 'lifeexp', 'mortality', 'infantd',\n",
       "       'Alcohol', 'percentage', 'hepB', 'Measles', 'BMI', 'under-five',\n",
       "       'Polio', 'total', 'Diphtheria', 'HIV/AIDS', 'GDP', 'Population',\n",
       "       'thin1-19', 'thin5-9', 'income', 'Schooling'],\n",
       "      dtype='object')"
      ]
     },
     "execution_count": 64,
     "metadata": {},
     "output_type": "execute_result"
    }
   ],
   "source": [
    "#but what if i want to specify using the column name....\n",
    "#for column name, you need to use \"loc\" which stands for explicit location\n",
    "#format: loc[explicit row index, explicit column index]\n",
    "tmp.columns"
   ]
  },
  {
   "cell_type": "code",
   "execution_count": 65,
   "metadata": {},
   "outputs": [
    {
     "data": {
      "text/plain": [
       "Int64Index([779, 780, 781, 782, 783, 784, 785, 1308, 1309, 1310, 1311, 1312,\n",
       "            1313],\n",
       "           dtype='int64')"
      ]
     },
     "execution_count": 65,
     "metadata": {},
     "output_type": "execute_result"
    }
   ],
   "source": [
    "tmp.index"
   ]
  },
  {
   "cell_type": "code",
   "execution_count": 67,
   "metadata": {},
   "outputs": [
    {
     "data": {
      "text/html": [
       "<div>\n",
       "<style scoped>\n",
       "    .dataframe tbody tr th:only-of-type {\n",
       "        vertical-align: middle;\n",
       "    }\n",
       "\n",
       "    .dataframe tbody tr th {\n",
       "        vertical-align: top;\n",
       "    }\n",
       "\n",
       "    .dataframe thead th {\n",
       "        text-align: right;\n",
       "    }\n",
       "</style>\n",
       "<table border=\"1\" class=\"dataframe\">\n",
       "  <thead>\n",
       "    <tr style=\"text-align: right;\">\n",
       "      <th></th>\n",
       "      <th>Country</th>\n",
       "      <th>Status</th>\n",
       "    </tr>\n",
       "  </thead>\n",
       "  <tbody>\n",
       "    <tr>\n",
       "      <th>779</th>\n",
       "      <td>Dominican Republic</td>\n",
       "      <td>Developing</td>\n",
       "    </tr>\n",
       "    <tr>\n",
       "      <th>1308</th>\n",
       "      <td>Jamaica</td>\n",
       "      <td>Developing</td>\n",
       "    </tr>\n",
       "  </tbody>\n",
       "</table>\n",
       "</div>"
      ],
      "text/plain": [
       "                 Country      Status\n",
       "779   Dominican Republic  Developing\n",
       "1308             Jamaica  Developing"
      ]
     },
     "execution_count": 67,
     "metadata": {},
     "output_type": "execute_result"
    }
   ],
   "source": [
    "tmp.loc[[779, 1308], ['Country', 'Status'] ]"
   ]
  },
  {
   "cell_type": "code",
   "execution_count": null,
   "metadata": {},
   "outputs": [],
   "source": [
    "#if you want to change the index column\n",
    "#use set_index(column)"
   ]
  },
  {
   "cell_type": "code",
   "execution_count": 80,
   "metadata": {},
   "outputs": [
    {
     "data": {
      "text/plain": [
       "0    Afghanistan\n",
       "8    Afghanistan\n",
       "Name: Country, dtype: object"
      ]
     },
     "execution_count": 80,
     "metadata": {},
     "output_type": "execute_result"
    }
   ],
   "source": [
    "#Ex1:  I believe there are some rows that have abnormal income, can you check for me....use masking + \n",
    "# loc/iloc abnormal greater than 75%...0.779000\n",
    "cond = df.income > df.income.describe()['75%']\n",
    "# df.loc[cond, 'Country'].unique()   #<---this is also ok...\n",
    "df.loc[cond].iloc[:5]  #<---iloc is more manual access\n",
    "\n",
    "#Ex2:  Find the countries that are developing (set this as cond), and use loc[cond, 'Country']\n",
    "cond = df.Status == 'Developing'\n",
    "df.loc[cond, 'Country'].iloc[  [0, 8]  ] #when you say unique(), this becomes a numpy array\n",
    "#NumPy array DOES NOT have iloc....both series and dataframe have iloc and loc"
   ]
  },
  {
   "cell_type": "markdown",
   "metadata": {},
   "source": [
    "Break: 10:15 - 10:25"
   ]
  },
  {
   "cell_type": "markdown",
   "metadata": {},
   "source": [
    "# Drop columns"
   ]
  },
  {
   "cell_type": "code",
   "execution_count": 84,
   "metadata": {},
   "outputs": [
    {
     "data": {
      "text/plain": [
       "Index(['Country', 'Year', 'Status', 'lifeexp', 'mortality', 'infantd',\n",
       "       'Alcohol', 'percentage', 'hepB', 'Measles', 'BMI', 'under-five',\n",
       "       'Polio', 'total', 'Diphtheria', 'HIV/AIDS', 'GDP', 'Population',\n",
       "       'thin1-19', 'thin5-9', 'income', 'Schooling'],\n",
       "      dtype='object')"
      ]
     },
     "execution_count": 84,
     "metadata": {},
     "output_type": "execute_result"
    }
   ],
   "source": [
    "df.columns"
   ]
  },
  {
   "cell_type": "code",
   "execution_count": 87,
   "metadata": {},
   "outputs": [
    {
     "data": {
      "text/plain": [
       "Index(['Country', 'Year', 'Status', 'lifeexp', 'mortality', 'infantd',\n",
       "       'Alcohol', 'percentage', 'BMI', 'under-five', 'total', 'HIV/AIDS',\n",
       "       'GDP', 'Population', 'thin1-19', 'thin5-9', 'income', 'Schooling'],\n",
       "      dtype='object')"
      ]
     },
     "execution_count": 87,
     "metadata": {},
     "output_type": "execute_result"
    }
   ],
   "source": [
    "#format: df.drop(columns = [list of columns], inplace=True)\n",
    "# df.drop(\n",
    "#     columns = ['hepB', 'Diphtheria'], inplace=True\n",
    "# )\n",
    "\n",
    "# df.columns\n",
    "\n",
    "#Ex1:  can you drop Polio and Measles as well....\n",
    "df.drop(\n",
    "    columns = ['Polio', 'Measles'], inplace=True\n",
    ")\n",
    "\n",
    "df.columns"
   ]
  },
  {
   "cell_type": "markdown",
   "metadata": {},
   "source": [
    "# Select_dtypes\n",
    "\n",
    "- useful ways to get a list of columns based on their dtypes\n",
    "- sometimes we want to gather \"int/float\" columns and perform e.g., `sns.countplot`\n",
    "- sometimes we want to group  \"object\" columns and perform e.g., `sns.boxplot` using some simple for loop"
   ]
  },
  {
   "cell_type": "code",
   "execution_count": 90,
   "metadata": {},
   "outputs": [
    {
     "data": {
      "text/plain": [
       "Country        object\n",
       "Year            int64\n",
       "Status         object\n",
       "lifeexp       float64\n",
       "mortality     float64\n",
       "infantd         int64\n",
       "Alcohol       float64\n",
       "percentage    float64\n",
       "BMI           float64\n",
       "under-five      int64\n",
       "total         float64\n",
       "HIV/AIDS      float64\n",
       "GDP           float64\n",
       "Population    float64\n",
       "thin1-19      float64\n",
       "thin5-9       float64\n",
       "income        float64\n",
       "Schooling     float64\n",
       "dtype: object"
      ]
     },
     "execution_count": 90,
     "metadata": {},
     "output_type": "execute_result"
    }
   ],
   "source": [
    "df.dtypes  #this list down all the type...."
   ]
  },
  {
   "cell_type": "code",
   "execution_count": 91,
   "metadata": {},
   "outputs": [
    {
     "data": {
      "text/plain": [
       "Index(['Year', 'lifeexp', 'mortality', 'infantd', 'Alcohol', 'percentage',\n",
       "       'BMI', 'under-five', 'total', 'HIV/AIDS', 'GDP', 'Population',\n",
       "       'thin1-19', 'thin5-9', 'income', 'Schooling'],\n",
       "      dtype='object')"
      ]
     },
     "execution_count": 91,
     "metadata": {},
     "output_type": "execute_result"
    }
   ],
   "source": [
    "numeric_cols = df.select_dtypes(include = ['int64', 'float64'])  #can also \"exclude\"\n",
    "numeric_cols.columns"
   ]
  },
  {
   "cell_type": "code",
   "execution_count": 92,
   "metadata": {},
   "outputs": [
    {
     "data": {
      "text/plain": [
       "Index(['Country', 'Status'], dtype='object')"
      ]
     },
     "execution_count": 92,
     "metadata": {},
     "output_type": "execute_result"
    }
   ],
   "source": [
    "discrete_cols = df.select_dtypes(include = ['object'])  #can also use \"exclude\"\n",
    "discrete_cols.columns"
   ]
  },
  {
   "cell_type": "code",
   "execution_count": 95,
   "metadata": {},
   "outputs": [],
   "source": [
    "# import seaborn as sns\n",
    "# import matplotlib.pyplot as plt\n",
    "\n",
    "# for col in numeric_cols.columns:\n",
    "#     sns.countplot(data = df, x = col)\n",
    "#     plt.show()"
   ]
  },
  {
   "cell_type": "markdown",
   "metadata": {},
   "source": [
    "# Sample (useful for imbalanced class dataset)\n",
    "\n",
    "- selecting only a subset of data\n",
    "- when we have imbalanced class dataset\n",
    "- maybe we have a dataset of y, in which positive has 1000 samples, but negative only have 50 samples\n",
    "- this will be a problem for our machine learning\n",
    "  - why?  because our model can just cheat and just predict positive and will get 95% accuracy....\n",
    "    - 95 comes from 1000 / (1000 + 50)\n",
    "\n",
    "- we can sample 50 negatives, but ALSO 50 positives only (and do this many times, and average the accuracy)"
   ]
  },
  {
   "cell_type": "code",
   "execution_count": 99,
   "metadata": {},
   "outputs": [
    {
     "data": {
      "text/plain": [
       "(2204, 18)"
      ]
     },
     "execution_count": 99,
     "metadata": {},
     "output_type": "execute_result"
    }
   ],
   "source": [
    "#format: df.sample(n = number of samples)  #this function will let sample a subset of data\n",
    "#format: df.sample(frac = percentage)      #this will let you sample a fraction percentage of the data\n",
    "\n",
    "#if you always want the same subset, use random_state\n",
    "#random state keep your dataset the same everything you run again...\n",
    "subset_200 = df.sample(n = 200, random_state = 999)  #this is automatically random....\n",
    "subset_200.shape\n",
    "\n",
    "#you can also use frac\n",
    "subset_75 = df.sample(frac = 0.75, random_state = 999)\n",
    "subset_75.shape"
   ]
  },
  {
   "cell_type": "code",
   "execution_count": 107,
   "metadata": {},
   "outputs": [],
   "source": [
    "#Ex1:  Sample 50% of data, but in which income must be greater than the mean\n",
    "cond = df.income > df.income.mean()\n",
    "subset50 = df[cond].sample(frac = 0.5)\n",
    "subset50.shape\n",
    "\n",
    "#Ex2:  For each country, sample only 1 row of data.....\n",
    "#hint: pd.concat([df1, df2, df3......], axis='rows') #or axis=0\n",
    "\n",
    "#1. get the unique countries first\n",
    "countries = df.Country.unique()\n",
    "\n",
    "#2. loop, sample, add them to a list of dataframes\n",
    "somelist = []\n",
    "for country in countries:\n",
    "    cond = df.Country == country\n",
    "    tmp = df[cond].sample(n = 1)\n",
    "    somelist.append(tmp)\n",
    "\n",
    "#3. concat this list using pd.concat(thislist, axis='rows)\n",
    "#format: pd.concat([list of dataframes], axis='rows/0  or  columns/1\") use rows or 0 are same....\n",
    "new_df = pd.concat(somelist, axis='rows')\n"
   ]
  },
  {
   "cell_type": "code",
   "execution_count": 110,
   "metadata": {},
   "outputs": [
    {
     "data": {
      "text/plain": [
       "Afghanistan      1\n",
       "Lithuania        1\n",
       "Nigeria          1\n",
       "Niue             1\n",
       "Norway           1\n",
       "                ..\n",
       "Grenada          1\n",
       "Guatemala        1\n",
       "Guinea           1\n",
       "Guinea-Bissau    1\n",
       "Zimbabwe         1\n",
       "Name: Country, Length: 193, dtype: int64"
      ]
     },
     "execution_count": 110,
     "metadata": {},
     "output_type": "execute_result"
    }
   ],
   "source": [
    "new_df.Country.value_counts()"
   ]
  },
  {
   "cell_type": "markdown",
   "metadata": {},
   "source": [
    "# Groupby"
   ]
  },
  {
   "cell_type": "markdown",
   "metadata": {},
   "source": [
    "# Fillna, dropna, isna"
   ]
  }
 ],
 "metadata": {
  "kernelspec": {
   "display_name": "Python 3.8.6 ('teaching_env')",
   "language": "python",
   "name": "python3"
  },
  "language_info": {
   "codemirror_mode": {
    "name": "ipython",
    "version": 3
   },
   "file_extension": ".py",
   "mimetype": "text/x-python",
   "name": "python",
   "nbconvert_exporter": "python",
   "pygments_lexer": "ipython3",
   "version": "3.8.6"
  },
  "orig_nbformat": 4,
  "vscode": {
   "interpreter": {
    "hash": "becc4c8e5ad229b2591d820334d85e3db0111492344629bf57f272470dce75a5"
   }
  }
 },
 "nbformat": 4,
 "nbformat_minor": 2
}
