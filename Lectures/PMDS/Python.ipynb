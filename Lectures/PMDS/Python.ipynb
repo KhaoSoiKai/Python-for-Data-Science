{
 "cells": [
  {
   "cell_type": "markdown",
   "metadata": {},
   "source": [
    "# Python\n",
    "\n",
    "- We have learned the whole process of data science\n",
    "- You will feel that you always have \"errors\"\n",
    "  - why? because our basics are not strong\n",
    "  - e.g., we miss [ [  ] ], (), {}\n",
    "- Plan from now on:\n",
    "    1. **Python Basics** - so you understand list, dict, tuples\n",
    "    2. **NumPy** - so you understand [:3], what do i mean\n",
    "    3. **Pandas** - for cleaning, for fillna\n",
    "    4. **Matplotlib** - for visualization\n",
    "    5. **Sklearn** - we have many models?  when to use which?\n",
    "       1. Ask you again final exam or final project?\n",
    "          1. Final exam or final project is LIKE yesterday case study\n",
    "    6. **Revisit more case studies**\n",
    "    7. **Deploy**  -> Mr. Tinh request :-)"
   ]
  },
  {
   "cell_type": "markdown",
   "metadata": {},
   "source": [
    "## Let's first talk about python basics"
   ]
  },
  {
   "cell_type": "markdown",
   "metadata": {},
   "source": [
    "### 1. How to print"
   ]
  },
  {
   "cell_type": "code",
   "execution_count": 1,
   "metadata": {},
   "outputs": [
    {
     "name": "stdout",
     "output_type": "stream",
     "text": [
      "hello\n"
     ]
    }
   ],
   "source": [
    "#1. how to print\n",
    "\n",
    "print(\"hello\")"
   ]
  },
  {
   "cell_type": "code",
   "execution_count": 2,
   "metadata": {},
   "outputs": [
    {
     "name": "stdout",
     "output_type": "stream",
     "text": [
      "a: 5\n"
     ]
    }
   ],
   "source": [
    "a = 5\n",
    "\n",
    "#this is called format-string\n",
    "print(f\"a: {a}\")"
   ]
  },
  {
   "cell_type": "code",
   "execution_count": 3,
   "metadata": {},
   "outputs": [
    {
     "name": "stdout",
     "output_type": "stream",
     "text": [
      "a: 5.23\n"
     ]
    }
   ],
   "source": [
    "a = 5.23333223232\n",
    "\n",
    "#anything follow by a colon (:) means how you want to format\n",
    "#.2f means 2 decimals\n",
    "print(f\"a: {a:.2f}\")"
   ]
  },
  {
   "cell_type": "code",
   "execution_count": 11,
   "metadata": {},
   "outputs": [
    {
     "name": "stdout",
     "output_type": "stream",
     "text": [
      "Age   Gender         \n",
      "   15Male           \n",
      "20   Female         \n"
     ]
    }
   ],
   "source": [
    "age1, age2 = 15, 20\n",
    "gender1, gender2 = \"Male\", \"Female\"\n",
    "\n",
    "#so i can do left align or right align using (< or >)\n",
    "print(f\"{'Age':<6}{'Gender':<15}\")\n",
    "print(f\"{age1:>5}{gender1:<15}\")\n",
    "print(f\"{age2:<5}{gender2:<15}\")"
   ]
  },
  {
   "cell_type": "markdown",
   "metadata": {},
   "source": [
    "### 2. If elif else"
   ]
  },
  {
   "cell_type": "code",
   "execution_count": null,
   "metadata": {},
   "outputs": [],
   "source": [
    "a = 9\n",
    "b = 5\n",
    "c = 3\n",
    "\n",
    "#a, b, c = 9, 5, 3     ==> multiple assignments in one line\n",
    "\n",
    "'''\n",
    "if comparison:\n",
    "    true do something  #<---the indentation is NEEDED\n",
    "elif comparison:\n",
    "    true do something\n",
    "else:\n",
    "    otherwise do this\n",
    "'''\n",
    "\n",
    "if (a > 9):  #you DON'T REALLY NEED THE BRACKET, but i put it for readability\n",
    "    print(\"a is greater than 9\")\n",
    "elif (b > 5):  #you can HAVE more than one elif (if you don't have elif, no error)\n",
    "    print(\"b is greater than 5\")\n",
    "else:          #but you can only have ONE else (if you don't have else, no error)\n",
    "    print(\"otherwise, this will be printed\")\n",
    "    \n",
    "#exercise, if grade > 90, A,  >80 B+, >70 B, otherwise C+;   \n",
    "# use\n",
    "#           grade = int(input(\"Please input grade; only number!\"))\n",
    "# note:  input() gives you string!, so you need to convert to int\n",
    "# to get input from user"
   ]
  },
  {
   "cell_type": "markdown",
   "metadata": {},
   "source": [
    "### 3. While loop"
   ]
  },
  {
   "cell_type": "code",
   "execution_count": null,
   "metadata": {},
   "outputs": [],
   "source": [
    "'''\n",
    "format:\n",
    "\n",
    "while (this is still true):\n",
    "    do this\n",
    "'''\n",
    "\n",
    "a = 5\n",
    "\n",
    "while (a < 7): #as long as a is less than 7, do below\n",
    "    print(f\"a is not greater than 7 yet: {a}\")\n",
    "    a = a + 1\n"
   ]
  },
  {
   "cell_type": "code",
   "execution_count": 1,
   "metadata": {},
   "outputs": [
    {
     "name": "stdout",
     "output_type": "stream",
     "text": [
      "Too high\n",
      "Too low\n",
      "Too low\n",
      "Too high\n",
      "Too low\n",
      "Yay!\n"
     ]
    }
   ],
   "source": [
    "#exercise, create a secret number; let user guess the number; if the number is\n",
    "#too small, print(\"Too small\"), if is too big, print(\"Too big\")\n",
    "#if ok, stop  (Hint: you can use break to stop the whole while loop)\n",
    "\n",
    "#if you want to randomize secret num, use import random, then random.randint(low, high)\n",
    "\n",
    "import random\n",
    "\n",
    "secret = random.randint(0, 100)\n",
    "# num = 999999  #if you use while(True),no need this \n",
    "\n",
    "while (True):  #here you can also do while(True), because break will break the while\n",
    "    num = int(input(\"Input a num 0 to 100\"))\n",
    "    if num > secret:\n",
    "        print(\"Too high\")\n",
    "    elif num < secret:\n",
    "        print(\"Too low\")\n",
    "    else:\n",
    "        print(\"Yay!\")\n",
    "        break"
   ]
  },
  {
   "cell_type": "code",
   "execution_count": null,
   "metadata": {},
   "outputs": [],
   "source": []
  }
 ],
 "metadata": {
  "kernelspec": {
   "display_name": "Python 3.8.6 ('teaching_env')",
   "language": "python",
   "name": "python3"
  },
  "language_info": {
   "codemirror_mode": {
    "name": "ipython",
    "version": 3
   },
   "file_extension": ".py",
   "mimetype": "text/x-python",
   "name": "python",
   "nbconvert_exporter": "python",
   "pygments_lexer": "ipython3",
   "version": "3.8.6"
  },
  "orig_nbformat": 4,
  "vscode": {
   "interpreter": {
    "hash": "becc4c8e5ad229b2591d820334d85e3db0111492344629bf57f272470dce75a5"
   }
  }
 },
 "nbformat": 4,
 "nbformat_minor": 2
}
