{
 "cells": [
  {
   "cell_type": "markdown",
   "metadata": {},
   "source": [
    "# Python\n",
    "\n",
    "- We have learned the whole process of data science\n",
    "- You will feel that you always have \"errors\"\n",
    "  - why? because our basics are not strong\n",
    "  - e.g., we miss [ [  ] ], (), {}\n",
    "- Plan from now on:\n",
    "    1. **Python Basics** - so you understand list, dict, tuples\n",
    "    2. **NumPy** - so you understand [:3], what do i mean\n",
    "    3. **Pandas** - for cleaning, for fillna\n",
    "    4. **Matplotlib** - for visualization\n",
    "    5. **Sklearn** - we have many models?  when to use which?\n",
    "       1. Ask you again final exam or final project?\n",
    "          1. Final exam or final project is LIKE yesterday case study\n",
    "    6. **Revisit more case studies**\n",
    "    7. **Deploy**  -> Mr. Tinh request :-)"
   ]
  },
  {
   "cell_type": "markdown",
   "metadata": {},
   "source": [
    "## Let's first talk about python basics"
   ]
  },
  {
   "cell_type": "markdown",
   "metadata": {},
   "source": [
    "### 1. How to print"
   ]
  },
  {
   "cell_type": "code",
   "execution_count": 1,
   "metadata": {},
   "outputs": [
    {
     "name": "stdout",
     "output_type": "stream",
     "text": [
      "hello\n"
     ]
    }
   ],
   "source": [
    "#1. how to print\n",
    "\n",
    "print(\"hello\")"
   ]
  },
  {
   "cell_type": "code",
   "execution_count": 2,
   "metadata": {},
   "outputs": [
    {
     "name": "stdout",
     "output_type": "stream",
     "text": [
      "a: 5\n"
     ]
    }
   ],
   "source": [
    "a = 5\n",
    "\n",
    "#this is called format-string\n",
    "print(f\"a: {a}\")"
   ]
  },
  {
   "cell_type": "code",
   "execution_count": 3,
   "metadata": {},
   "outputs": [
    {
     "name": "stdout",
     "output_type": "stream",
     "text": [
      "a: 5.23\n"
     ]
    }
   ],
   "source": [
    "a = 5.23333223232\n",
    "\n",
    "#anything follow by a colon (:) means how you want to format\n",
    "#.2f means 2 decimals\n",
    "print(f\"a: {a:.2f}\")"
   ]
  },
  {
   "cell_type": "code",
   "execution_count": 11,
   "metadata": {},
   "outputs": [
    {
     "name": "stdout",
     "output_type": "stream",
     "text": [
      "Age   Gender         \n",
      "   15Male           \n",
      "20   Female         \n"
     ]
    }
   ],
   "source": [
    "age1, age2 = 15, 20\n",
    "gender1, gender2 = \"Male\", \"Female\"\n",
    "\n",
    "#so i can do left align or right align using (< or >)\n",
    "print(f\"{'Age':<6}{'Gender':<15}\")\n",
    "print(f\"{age1:>5}{gender1:<15}\")\n",
    "print(f\"{age2:<5}{gender2:<15}\")"
   ]
  },
  {
   "cell_type": "markdown",
   "metadata": {},
   "source": [
    "### 2. If elif else"
   ]
  },
  {
   "cell_type": "code",
   "execution_count": null,
   "metadata": {},
   "outputs": [],
   "source": [
    "a = 9\n",
    "b = 5\n",
    "c = 3\n",
    "\n",
    "#a, b, c = 9, 5, 3     ==> multiple assignments in one line\n",
    "\n",
    "'''\n",
    "if comparison:\n",
    "    true do something  #<---the indentation is NEEDED\n",
    "elif comparison:\n",
    "    true do something\n",
    "else:\n",
    "    otherwise do this\n",
    "'''\n",
    "\n",
    "if (a > 9):  #you DON'T REALLY NEED THE BRACKET, but i put it for readability\n",
    "    print(\"a is greater than 9\")\n",
    "elif (b > 5):  #you can HAVE more than one elif (if you don't have elif, no error)\n",
    "    print(\"b is greater than 5\")\n",
    "else:          #but you can only have ONE else (if you don't have else, no error)\n",
    "    print(\"otherwise, this will be printed\")\n",
    "    \n",
    "#exercise, if grade > 90, A,  >80 B+, >70 B, otherwise C+;   \n",
    "# use\n",
    "#           grade = int(input(\"Please input grade; only number!\"))\n",
    "# note:  input() gives you string!, so you need to convert to int\n",
    "# to get input from user"
   ]
  },
  {
   "cell_type": "markdown",
   "metadata": {},
   "source": [
    "### 3. While loop"
   ]
  },
  {
   "cell_type": "code",
   "execution_count": null,
   "metadata": {},
   "outputs": [],
   "source": [
    "'''\n",
    "format:\n",
    "\n",
    "while (this is still true):\n",
    "    do this\n",
    "'''\n",
    "\n",
    "a = 5\n",
    "\n",
    "while (a < 7): #as long as a is less than 7, do below\n",
    "    print(f\"a is not greater than 7 yet: {a}\")\n",
    "    a = a + 1\n"
   ]
  },
  {
   "cell_type": "code",
   "execution_count": 1,
   "metadata": {},
   "outputs": [
    {
     "name": "stdout",
     "output_type": "stream",
     "text": [
      "Too high\n",
      "Too low\n",
      "Too low\n",
      "Too high\n",
      "Too low\n",
      "Yay!\n"
     ]
    }
   ],
   "source": [
    "#exercise, create a secret number; let user guess the number; if the number is\n",
    "#too small, print(\"Too small\"), if is too big, print(\"Too big\")\n",
    "#if ok, stop  (Hint: you can use break to stop the whole while loop)\n",
    "\n",
    "#if you want to randomize secret num, use import random, then random.randint(low, high)\n",
    "\n",
    "import random\n",
    "\n",
    "secret = random.randint(0, 100)\n",
    "# num = 999999  #if you use while(True),no need this \n",
    "\n",
    "while (True):  #here you can also do while(True), because break will break the while\n",
    "    num = int(input(\"Input a num 0 to 100\"))\n",
    "    if num > secret:\n",
    "        print(\"Too high\")\n",
    "    elif num < secret:\n",
    "        print(\"Too low\")\n",
    "    else:\n",
    "        print(\"Yay!\")\n",
    "        break"
   ]
  },
  {
   "cell_type": "markdown",
   "metadata": {},
   "source": [
    "### 4. List"
   ]
  },
  {
   "cell_type": "code",
   "execution_count": 2,
   "metadata": {},
   "outputs": [],
   "source": [
    "#list can hold collection of data\n",
    "#list uses square bracket []\n",
    "\n",
    "my_list = [\"Chaky\", \"Tinh\", \"John\", \"Anh\", \"Hai\"]"
   ]
  },
  {
   "cell_type": "code",
   "execution_count": 3,
   "metadata": {},
   "outputs": [],
   "source": [
    "my_list = [1, 2, 3, 99, 201]"
   ]
  },
  {
   "cell_type": "code",
   "execution_count": 4,
   "metadata": {},
   "outputs": [],
   "source": [
    "my_list = [1, \"Chaky\", True, 1.0]"
   ]
  },
  {
   "cell_type": "code",
   "execution_count": 5,
   "metadata": {},
   "outputs": [
    {
     "data": {
      "text/plain": [
       "1"
      ]
     },
     "execution_count": 5,
     "metadata": {},
     "output_type": "execute_result"
    }
   ],
   "source": [
    "#how to access\n",
    "\n",
    "#count from 0\n",
    "\n",
    "my_list[0]  #try 1, 2, 3"
   ]
  },
  {
   "cell_type": "code",
   "execution_count": 7,
   "metadata": {},
   "outputs": [
    {
     "data": {
      "text/plain": [
       "[1, 'Chaky', True, 1.0]"
      ]
     },
     "execution_count": 7,
     "metadata": {},
     "output_type": "execute_result"
    }
   ],
   "source": [
    "my_list"
   ]
  },
  {
   "cell_type": "code",
   "execution_count": 6,
   "metadata": {},
   "outputs": [
    {
     "data": {
      "text/plain": [
       "[1, 'Chaky']"
      ]
     },
     "execution_count": 6,
     "metadata": {},
     "output_type": "execute_result"
    }
   ],
   "source": [
    "#[1, 'Chaky', True, 1.0]\n",
    "\n",
    "#if you want multiple items\n",
    "#format: [start:stop:step]  #NOTE: it will not include stop! \n",
    "# stop is exclusive, NOT inclusive\n",
    "#tips: you can also count backward, -1, -2, and so on\n",
    "\n",
    "my_list[0:2]\n",
    "\n",
    "#exercise: try to get True and 1.0\n",
    "\n",
    "#many ways:\n",
    "#1. my_list[2:4]\n",
    "#2. my_list[2:]\n",
    "#3. my_list[-2:4]\n",
    "#4. my_list[-2:]\n",
    "\n",
    "#[1, 'Chaky', True, 1.0]\n",
    "\n",
    "#challenge: try to get 1 and True, using step = 2\n",
    "#many ways:\n",
    "#1. my_list[0::2]\n",
    "#2. my_list[ ::2]"
   ]
  },
  {
   "cell_type": "code",
   "execution_count": 8,
   "metadata": {},
   "outputs": [],
   "source": [
    "#how to add or change\n",
    "my_list = [1, 2, 3]"
   ]
  },
  {
   "cell_type": "code",
   "execution_count": 9,
   "metadata": {},
   "outputs": [
    {
     "data": {
      "text/plain": [
       "[1, 2, 3, 4]"
      ]
     },
     "execution_count": 9,
     "metadata": {},
     "output_type": "execute_result"
    }
   ],
   "source": [
    "#add\n",
    "my_list.append(4)\n",
    "my_list"
   ]
  },
  {
   "cell_type": "code",
   "execution_count": 10,
   "metadata": {},
   "outputs": [
    {
     "data": {
      "text/plain": [
       "[99, 2, 3, 4]"
      ]
     },
     "execution_count": 10,
     "metadata": {},
     "output_type": "execute_result"
    }
   ],
   "source": [
    "#change\n",
    "my_list[0] = 99\n",
    "my_list"
   ]
  },
  {
   "cell_type": "code",
   "execution_count": 11,
   "metadata": {},
   "outputs": [
    {
     "data": {
      "text/plain": [
       "[99, 2, 3]"
      ]
     },
     "execution_count": 11,
     "metadata": {},
     "output_type": "execute_result"
    }
   ],
   "source": [
    "#remove\n",
    "my_list.remove(4)  #NOT index, 4 here means value\n",
    "\n",
    "my_list"
   ]
  },
  {
   "cell_type": "code",
   "execution_count": 12,
   "metadata": {},
   "outputs": [
    {
     "data": {
      "text/plain": [
       "[2, 3]"
      ]
     },
     "execution_count": 12,
     "metadata": {},
     "output_type": "execute_result"
    }
   ],
   "source": [
    "#but if you want to delete using index, use del\n",
    "del my_list[0]  #will delete the first index guy, which is 99\n",
    "\n",
    "my_list"
   ]
  },
  {
   "cell_type": "code",
   "execution_count": 13,
   "metadata": {},
   "outputs": [],
   "source": [
    "#insert will push elements to the right\n",
    "#format: insert(index, value)\n",
    "my_list.insert(1, 99999)"
   ]
  },
  {
   "cell_type": "code",
   "execution_count": 14,
   "metadata": {},
   "outputs": [
    {
     "data": {
      "text/plain": [
       "[2, 99999, 3]"
      ]
     },
     "execution_count": 14,
     "metadata": {},
     "output_type": "execute_result"
    }
   ],
   "source": [
    "my_list"
   ]
  },
  {
   "cell_type": "code",
   "execution_count": 15,
   "metadata": {},
   "outputs": [
    {
     "name": "stdout",
     "output_type": "stream",
     "text": [
      "99999 in my list\n"
     ]
    }
   ],
   "source": [
    "#check if some elements is inside, using in\n",
    "\n",
    "if 99999 in my_list:  #try if 99999 not in my_list:\n",
    "    print(\"99999 in my list\")"
   ]
  },
  {
   "cell_type": "code",
   "execution_count": 16,
   "metadata": {},
   "outputs": [
    {
     "name": "stdout",
     "output_type": "stream",
     "text": [
      "2\n",
      "99999\n",
      "3\n"
     ]
    }
   ],
   "source": [
    "#how to loop each element:\n",
    "#format:  for anyname in yourlist:\n",
    "\n",
    "for each_num in my_list:\n",
    "    print(each_num)"
   ]
  },
  {
   "cell_type": "code",
   "execution_count": 17,
   "metadata": {},
   "outputs": [
    {
     "name": "stdout",
     "output_type": "stream",
     "text": [
      "0       2\n",
      "1       99999\n",
      "2       3\n"
     ]
    }
   ],
   "source": [
    "#if you want counter\n",
    "#format:  for index, anyname in enumerate(yourlist):\n",
    "for index, each_num in enumerate(my_list):\n",
    "    print(index, \"     \", each_num)\n"
   ]
  },
  {
   "cell_type": "code",
   "execution_count": 19,
   "metadata": {},
   "outputs": [
    {
     "name": "stdout",
     "output_type": "stream",
     "text": [
      "Current list: [1]\n",
      "Exist. Try again\n",
      "Current list: [1]\n",
      "Program Exited (0)\n"
     ]
    }
   ],
   "source": [
    "#Exercise:  ask user for number, \n",
    "# add to the list if the list does not contain that number\n",
    "# if it contains the number, tell user to try again\n",
    "# if user input 0, exit the program\n",
    "\n",
    "#create a empty list\n",
    "my_list = []\n",
    "\n",
    "while(True):\n",
    "    num = int(input(\"Input a number: (0 to exit)\"))\n",
    "    if num == 0:\n",
    "        print(\"Program Exited (0)\")\n",
    "        break\n",
    "    else: \n",
    "        if (num not in my_list):\n",
    "            my_list.append(num)\n",
    "        else:\n",
    "            print(\"Exist. Try again\")\n",
    "    print(f\"Current list: {my_list}\")\n",
    "    \n",
    "#print the maximum of the list (no function)\n",
    "max_num = 0  #use max, try not to, because max is a function name\n",
    "for num in my_list:\n",
    "    if num > max_num:\n",
    "        max_num = num\n",
    "print(f\"Max: {max_num}\")\n",
    "\n",
    "#print only the even number\n",
    "for num in my_list:\n",
    "    if num % 2 == 0:\n",
    "        print(num)"
   ]
  },
  {
   "cell_type": "code",
   "execution_count": 23,
   "metadata": {},
   "outputs": [
    {
     "name": "stdout",
     "output_type": "stream",
     "text": [
      "3\n"
     ]
    },
    {
     "data": {
      "text/plain": [
       "['b', 'n', 'a', 'n', 'a']"
      ]
     },
     "execution_count": 23,
     "metadata": {},
     "output_type": "execute_result"
    }
   ],
   "source": [
    "a = \"banana\"\n",
    "count = 0\n",
    "for letter in a:\n",
    "    if (letter == 'a'):\n",
    "        count = count + 1\n",
    "\n",
    "print(count)\n",
    "\n",
    "a_list = list(a)\n",
    "a_list.remove('a')\n",
    "a_list"
   ]
  },
  {
   "cell_type": "code",
   "execution_count": 20,
   "metadata": {},
   "outputs": [
    {
     "data": {
      "text/plain": [
       "'C'"
      ]
     },
     "execution_count": 20,
     "metadata": {},
     "output_type": "execute_result"
    }
   ],
   "source": [
    "#Do a hangman game. \n",
    "#ask user for a letter\n",
    "#1. if the letter is inside the secret, print yay, and cut the letter\n",
    "    #many ways:, \n",
    "        #1. you can first convert to list, and use remove \n",
    "            # Note: (remove only remove the first guy)\n",
    "        #2. you can use secret.replace(letter, \"\")\n",
    "#2. if the letter is NOT inside the secret, penalty + 1, \n",
    "    #2.1 if penalty = 5, game over\n",
    "#3. if the len(secret) = 0, you win\n",
    "#optionally, you can check whether is a letter using .alpha, e.g.,   \n",
    "#              letter.isalpha() and len(letter)==1\n",
    "\n",
    "from curses.ascii import isalpha\n",
    "\n",
    "\n",
    "secret = \"banana\"\n",
    "#convert to list so i can use remove\n",
    "secret_list = list(secret)\n",
    "penalty = 0\n",
    "\n",
    "#as long as it's true\n",
    "while(True):\n",
    "    #ask user for letter\n",
    "    letter = input(\"Give me a letter\")\n",
    "    if letter.isalpha() and len(letter) == 1:\n",
    "        #as long as the letter is inside secret\n",
    "        #NOTE: you can also use secret.replace(letter, \"\")\n",
    "        if letter in secret_list:\n",
    "            while letter in secret_list:\n",
    "                #remove it\n",
    "                secret_list.remove(letter)\n",
    "            print(f\"Letter {letter} removed!\")\n",
    "        #if the letter is NOT inside secret\n",
    "        #penalty = penalty + 1\n",
    "        else:\n",
    "            penalty = penalty + 1\n",
    "            print(f\"Sorry!  -1 point!  Current penalty: {penalty}.\")\n",
    "        \n",
    "        print(f\"Secret: {secret_list}\")\n",
    "        #print my secret, (just for cheating)\n",
    "        \n",
    "        #if len(secret) = 0, win, and break\n",
    "        if(len(secret_list) == 0):\n",
    "            print(\"you win!\")\n",
    "            break\n",
    "        elif(penalty == 5):\n",
    "            print(\"you lose!\")\n",
    "            break\n",
    "    else:\n",
    "        continue #skip everything below and jump to while()"
   ]
  },
  {
   "cell_type": "code",
   "execution_count": null,
   "metadata": {},
   "outputs": [],
   "source": []
  }
 ],
 "metadata": {
  "kernelspec": {
   "display_name": "Python 3.8.6 ('teaching_env')",
   "language": "python",
   "name": "python3"
  },
  "language_info": {
   "codemirror_mode": {
    "name": "ipython",
    "version": 3
   },
   "file_extension": ".py",
   "mimetype": "text/x-python",
   "name": "python",
   "nbconvert_exporter": "python",
   "pygments_lexer": "ipython3",
   "version": "3.8.6"
  },
  "orig_nbformat": 4,
  "vscode": {
   "interpreter": {
    "hash": "becc4c8e5ad229b2591d820334d85e3db0111492344629bf57f272470dce75a5"
   }
  }
 },
 "nbformat": 4,
 "nbformat_minor": 2
}
