{
 "cells": [
  {
   "cell_type": "markdown",
   "metadata": {},
   "source": [
    "# Logistic Regression from Scratch"
   ]
  },
  {
   "cell_type": "markdown",
   "metadata": {},
   "source": [
    "### Review: Linear Regression from Scratch\n",
    "\n",
    "Note: This is the fundamental of deep learning.  Almost all deep learning operations is based on this weight multiplication.\n",
    "\n",
    "Solving linear regression is an **optimization** problem. Optimization means finding the optimal - max, min.\n",
    "\n",
    "$$\\theta^* = \\argmin_\\theta J(\\theta)$$\n",
    "\n",
    "#### Four steps:\n",
    "\n",
    "1.  Predict - `X.shape = (m, n); y.shape = (m, )`\n",
    "    $$ h(\\theta) = y = f(x) = X \\cdot \\theta$$\n",
    "\n",
    "2.  Find the gradient\n",
    "   \n",
    "    2.1 We must first define the $J(\\theta)$\n",
    "        $$J(\\theta) = \\sum_{i=0}^m \\frac{(\\hat{y}_i - y_i)^2}{2}$$\n",
    "\n",
    "    2.2 $$\\frac{\\partial J}{\\partial \\theta_j} = \\sum_{i=0}^m (\\hat{y}_i - y_i)x_j$$\n",
    "\n",
    "3. Update the theta \n",
    "\n",
    "    $$\\theta = \\theta - \\alpha * \\frac{\\partial J}{\\partial \\theta_j}$$\n",
    "\n",
    "4. Repeat 1, 2, 3 until either (1) `num_epochs` reach limit, or (2) early stopping (which I asked you to implement in your assignment)\n",
    "    "
   ]
  },
  {
   "cell_type": "markdown",
   "metadata": {},
   "source": [
    "### Let's come back to Logistic Regression\n",
    "\n",
    "Note: this is also the fundamental of all deep learning, that involves classification.   In deep learning, all operations do something like this....\n",
    "\n",
    "Logistic Regression is a **classification** algorithm based on linear regression.\n",
    "\n",
    "Classification - supervised learning - where $y$ is discrete.\n",
    "\n",
    "Binary - class 0 and 1\n",
    "Multiclass - > 2 class\n",
    "\n",
    "Today we will be doing binary.....\n",
    "This Thurs we will be doing multiclass...."
   ]
  },
  {
   "cell_type": "markdown",
   "metadata": {},
   "source": [
    "#### Four steps:\n",
    "\n",
    "1.  Predict - `X.shape = (m, n); y.shape = (m, )`\n",
    "    $$ h(\\theta) = y = f(x) = X \\cdot \\theta$$\n",
    "\n",
    "    We know that $\\texttt{range}(X \\cdot \\theta) =  (-\\infty, \\infty)$\n",
    "\n",
    "    We need to find a function $g(x)$ such that it maps infinity to 0 and 1.\n",
    "\n",
    "    That $g(x) = \\displaystyle\\frac{1}{1 + e^{-x}}$\n",
    "\n",
    "    So if you combine $g(x)$ with $h(\\theta)$, then you will get\n",
    "    \n",
    "    $h(g(x)) = \\displaystyle\\frac{1}{1 + e^{-(X \\cdot \\theta)}}$\n",
    "\n",
    "\n",
    "2.  Find the gradient\n",
    "   \n",
    "    2.1 We must first define the $J(\\theta)$\n",
    "        $$J(\\theta) = \\sum_{i=0}^m \\frac{(\\hat{y}_i - y_i)^2}{2}$$\n",
    "\n",
    "    2.2 $$\\frac{\\partial J}{\\partial \\theta_j} = \\sum_{i=0}^m (\\hat{y}_i - y_i)x_j$$\n",
    "\n",
    "3. Update the theta \n",
    "\n",
    "    $$\\theta = \\theta - \\alpha * \\frac{\\partial J}{\\partial \\theta_j}$$\n",
    "\n",
    "4. Repeat 1, 2, 3 until either (1) `num_epochs` reach limit, or (2) early stopping (which I asked you to implement in your assignment)"
   ]
  },
  {
   "cell_type": "markdown",
   "metadata": {},
   "source": [
    "### Let's code"
   ]
  },
  {
   "cell_type": "code",
   "execution_count": 4,
   "metadata": {},
   "outputs": [],
   "source": [
    "import numpy as np\n",
    "import matplotlib.pyplot as plt"
   ]
  },
  {
   "cell_type": "code",
   "execution_count": 7,
   "metadata": {},
   "outputs": [
    {
     "data": {
      "text/plain": [
       "<matplotlib.collections.PathCollection at 0x12419c040>"
      ]
     },
     "execution_count": 7,
     "metadata": {},
     "output_type": "execute_result"
    },
    {
     "data": {
      "image/png": "[encoded data removed]",
      "text/plain": [
       "<Figure size 432x288 with 1 Axes>"
      ]
     },
     "metadata": {
      "needs_background": "light"
     },
     "output_type": "display_data"
    }
   ],
   "source": [
    "#1. I want you to define this function g(x)\n",
    "def sigmoid(x):  #logit function, or sigmoid function\n",
    "    return (1 + np.exp(-x)) ** -1\n",
    "\n",
    "#2. I want you to simulate x from -5 to 5\n",
    "x = np.linspace(-5, 5, 1000)  #np.arange(-5, 5, 0.01)\n",
    "y = sigmoid(x)\n",
    "\n",
    "#3. Try to plot it\n",
    "plt.scatter(x, y)\n"
   ]
  },
  {
   "cell_type": "code",
   "execution_count": 16,
   "metadata": {},
   "outputs": [
    {
     "name": "stdout",
     "output_type": "stream",
     "text": [
      "[1. 1. 1.]\n"
     ]
    }
   ],
   "source": [
    "#1. define X with two samples.  \n",
    "# Sample 1 has egg price = 5, oil price = 10; Sample 2 has egg price = 3, oil price = 4\n",
    "X = np.array([[5, 10], [3, 4], [9, 1]])\n",
    "X.shape\n",
    "\n",
    "#2. define any theta you like\n",
    "theta = np.random.random((2, ))  #np.ones((X.shape[1], ))\n",
    "theta.shape\n",
    "\n",
    "#3. perform X dot theta  #(3, 2) @ (2, ) = (3, )\n",
    "    #print it\n",
    "yhat = X.dot(theta)\n",
    "yhat.shape\n",
    "    \n",
    "#4. perform sigmoid on top and see whether the value is really 0 or 1\n",
    "yhat_sig = sigmoid(yhat)\n",
    "\n",
    "#5. perform a round to nearest\n",
    "print(np.round(yhat_sig))"
   ]
  },
  {
   "cell_type": "code",
   "execution_count": null,
   "metadata": {},
   "outputs": [],
   "source": []
  }
 ],
 "metadata": {
  "kernelspec": {
   "display_name": "Python 3.8.6 ('teaching_env')",
   "language": "python",
   "name": "python3"
  },
  "language_info": {
   "codemirror_mode": {
    "name": "ipython",
    "version": 3
   },
   "file_extension": ".py",
   "mimetype": "text/x-python",
   "name": "python",
   "nbconvert_exporter": "python",
   "pygments_lexer": "ipython3",
   "version": "3.8.6"
  },
  "orig_nbformat": 4,
  "vscode": {
   "interpreter": {
    "hash": "becc4c8e5ad229b2591d820334d85e3db0111492344629bf57f272470dce75a5"
   }
  }
 },
 "nbformat": 4,
 "nbformat_minor": 2
}
