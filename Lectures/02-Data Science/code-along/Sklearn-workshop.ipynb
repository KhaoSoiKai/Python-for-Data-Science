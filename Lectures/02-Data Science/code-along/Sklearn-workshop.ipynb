{
 "cells": [
  {
   "cell_type": "markdown",
   "metadata": {},
   "source": [
    "# Sklearn Workshop"
   ]
  },
  {
   "cell_type": "markdown",
   "metadata": {},
   "source": [
    "14:26 - 15:59"
   ]
  },
  {
   "cell_type": "markdown",
   "metadata": {},
   "source": [
    "# 1. ETL\n",
    "- load the data\n",
    "\n",
    "# 2. EDA\n",
    "- output: top three features\n",
    "\n",
    "# 3. Feature selection/extraction\n",
    "- set X, and y\n",
    "- train test split\n",
    "\n",
    "# 4. Clean data\n",
    "- clean missing values\n",
    "- transfer categorical values to numbers\n",
    "  - label encoder and one-hot encoder(get_dummy)\n",
    "\n",
    "# 5. Modeling\n",
    "- cross validation -> grid search\n",
    "- this problem is a classification problem\n",
    "  - use RandomForestClassifer, SVC, LogisticRegression, GaussianNB\n",
    "\n",
    "# 6. Testing\n",
    "- `.predict`\n",
    "- use from sklearn.metrics import accuracy\n",
    "- use from sklearn.metrics import classification_report\n",
    "  - don't worry about what is recall, precision, f1\n",
    "    - i will explain later....\n",
    "\n",
    "# 7. Feature importance\n",
    "- can you try\n",
    "\n",
    "# 8. Save models"
   ]
  }
 ],
 "metadata": {
  "language_info": {
   "name": "python"
  },
  "orig_nbformat": 4
 },
 "nbformat": 4,
 "nbformat_minor": 2
}
